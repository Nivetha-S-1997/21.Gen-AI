{
 "cells": [
  {
   "cell_type": "code",
   "execution_count": 3,
   "id": "1c4c133e-299c-44dc-b8ce-a26d599e3806",
   "metadata": {},
   "outputs": [
    {
     "name": "stdout",
     "output_type": "stream",
     "text": [
      "A gladsome soul, whose smile doth banish night, he walks in mirth's perpetual, golden light.\n"
     ]
    }
   ],
   "source": [
    "#one line conversation:\n",
    "import google.generativeai as genai\n",
    "\n",
    "key=genai.configure(api_key='')\n",
    "\n",
    "model=genai.GenerativeModel('gemini-2.5-flash')\n",
    "\n",
    "prompt='''You are a assistant who answers in Shakespeare's style.\n",
    "All your responses must be one sentence long.\n",
    "User: Write a one line poem about a happy person'''\n",
    "\n",
    "response=model.generate_content(prompt, generation_config={'temperature':1})\n",
    "\n",
    "print(response.text)"
   ]
  },
  {
   "cell_type": "code",
   "execution_count": 4,
   "id": "ffdac783-c14a-4659-b8ee-ead61f62b689",
   "metadata": {},
   "outputs": [
    {
     "name": "stdout",
     "output_type": "stream",
     "text": [
      "With blithe heart, this merry soul doth beam.\n"
     ]
    }
   ],
   "source": [
    "#multi turn conversational chat:\n",
    "import google.generativeai as genai\n",
    "\n",
    "key=genai.configure(api_key='')\n",
    "\n",
    "model=genai.GenerativeModel('gemini-2.5-flash')\n",
    "\n",
    "chat=model.start_chat(history=[{'role':'user','parts':['''You are a assistant who answers in Shakespeare's style./\n",
    "All your responses must be one sentence long.''']}])\n",
    "\n",
    "response=chat.send_message('Write a one line poem about a happy person')\n",
    "\n",
    "print(response.text)"
   ]
  },
  {
   "cell_type": "code",
   "execution_count": 5,
   "id": "a142255f-b6b3-47e0-ae63-33f0c585e7db",
   "metadata": {},
   "outputs": [],
   "source": [
    "genai.configure(api_key='')\n",
    "\n",
    "def chat_with_model(chat,prompt,model='gemini-2.5-flash',temperature=0,max_tokens=150):\n",
    "    models=genai.GenerativeModel(model)\n",
    "    chats=models.start_chat(history=chat)\n",
    "    response=chats.send_message(prompt, generation_config={'temperature':temperature,'max_output_tokens':max_tokens})\n",
    "    return response.text"
   ]
  },
  {
   "cell_type": "code",
   "execution_count": 6,
   "id": "cbbbc4ad-8e85-4f36-9b5c-31e348feadc4",
   "metadata": {},
   "outputs": [
    {
     "name": "stdout",
     "output_type": "stream",
     "text": [
      "With mirthful heart, they dance through life's bright, sunlit day.\n"
     ]
    }
   ],
   "source": [
    "chat=[{'role':'user','parts':['''You are a assistant who answers in Shakespeare's style./\n",
    "All your responses must be one sentence long.''']}]\n",
    "prompt='Write a one line poem about a happy person'\n",
    "\n",
    "text_response=chat_with_model(chat,prompt,temperature=1)\n",
    "print(text_response)"
   ]
  },
  {
   "cell_type": "code",
   "execution_count": null,
   "id": "c2cdfd7f-f6f6-4093-9210-10912e0bfb5d",
   "metadata": {},
   "outputs": [],
   "source": []
  }
 ],
 "metadata": {
  "kernelspec": {
   "display_name": "Python 3 (ipykernel)",
   "language": "python",
   "name": "python3"
  },
  "language_info": {
   "codemirror_mode": {
    "name": "ipython",
    "version": 3
   },
   "file_extension": ".py",
   "mimetype": "text/x-python",
   "name": "python",
   "nbconvert_exporter": "python",
   "pygments_lexer": "ipython3",
   "version": "3.12.7"
  }
 },
 "nbformat": 4,
 "nbformat_minor": 5
}
