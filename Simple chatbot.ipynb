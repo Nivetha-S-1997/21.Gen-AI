{
 "cells": [
  {
   "cell_type": "code",
   "execution_count": null,
   "id": "ed0a88cc-a63b-41b9-a110-1bbf25a00257",
   "metadata": {},
   "outputs": [],
   "source": [
    "#!pip install openai"
   ]
  },
  {
   "cell_type": "markdown",
   "id": "31183255-2b76-45ed-bd95-4dbdcc707d30",
   "metadata": {},
   "source": [
    "#OPENAI VERSION:"
   ]
  },
  {
   "cell_type": "code",
   "execution_count": null,
   "id": "d051c759-f693-42ee-b307-b0d9918d9b8d",
   "metadata": {},
   "outputs": [],
   "source": [
    "import openai\n",
    "from openai import OpenAI\n",
    "\n",
    "key=OpenAI(api_key='')\n",
    "\n",
    "chatbot=key.chat.completions.create(model='gpt-3.5-turbo', messages=[{'role':'user','content':'Give me the possible ways to go for work abroad'}])\n",
    "\n",
    "print(chatbot.choices[0].message.content)"
   ]
  },
  {
   "cell_type": "code",
   "execution_count": null,
   "id": "bca344a4-9233-4293-8fd7-b91edcf500cf",
   "metadata": {},
   "outputs": [],
   "source": [
    "import openai\n",
    "from openai import OpenAI\n",
    "\n",
    "key=OpenAI(api_key='')\n",
    "\n",
    "messages=[]\n",
    "\n",
    "system_msg=input('What type of chatbot would you like to create?\\n')\n",
    "messages.append({'role':'system','content':system_msg})\n",
    "\n",
    "print('Your new assistant is ready! Type \"quit\" to exit\\n')\n",
    "\n",
    "while True:\n",
    "    user_msg=input('Enter your query: \\n')\n",
    "    \n",
    "    if user_msg.lower()=='quit':\n",
    "        print('Thank you, Bye!')\n",
    "        break\n",
    "        \n",
    "    messages.append({'role':'user','content':user_msg})\n",
    "    response=key.chat.completions.create(model='gpt-3.5-turbo', messages=messages)\n",
    "    assistant_reply=response.choices[0].message.content\n",
    "    print(assistant_reply)\n",
    "    messages.append({'role':'assistant','content':assistant_reply})"
   ]
  },
  {
   "cell_type": "markdown",
   "id": "08efd1b4-8501-4a60-9ef1-738e9821bb7d",
   "metadata": {},
   "source": [
    "#GEMINI VERSION:"
   ]
  },
  {
   "cell_type": "code",
   "execution_count": 2,
   "id": "03a422f0-c46d-4a7a-8c0a-248abec2bbff",
   "metadata": {},
   "outputs": [],
   "source": [
    "#!pip install google-generativeai"
   ]
  },
  {
   "cell_type": "code",
   "execution_count": 11,
   "id": "f30a17c4-cb52-4f74-972f-417f13f4e912",
   "metadata": {},
   "outputs": [
    {
     "name": "stdout",
     "output_type": "stream",
     "text": [
      "Moving abroad for work is an exciting goal! There are numerous pathways, each with its own requirements, benefits, and challenges. Here are the most common and possible ways to go for work abroad:\n",
      "\n",
      "1.  **Direct Job Application & Sponsorship:**\n",
      "    *   **How it works:** You apply for jobs directly with foreign companies, and if hired, they sponsor your work visa.\n",
      "    *   **Best for:** Highly skilled professionals, those in \"in-demand\" industries (IT, healthcare, engineering, specialized trades), or roles that are difficult to fill locally.\n",
      "    *   **Action:** Search international job boards (LinkedIn, Indeed, Glassdoor, company career pages), network, and tailor your resume for the international market.\n",
      "    *   **Key:** Your skills need to be valuable enough for a company to go through the visa sponsorship process.\n",
      "\n",
      "2.  **Internal Company Transfer (ICT):**\n",
      "    *   **How it works:** If you work for a multinational company, you might be able to transfer to an office in another country.\n",
      "    *   **Best for:** Employees with specific skills or knowledge vital to the company's international operations.\n",
      "    *   **Action:** Express interest to your manager or HR, build strong internal relationships, and demonstrate your value.\n",
      "    *   **Key:** Often one of the easier paths as the company handles most of the visa logistics.\n",
      "\n",
      "3.  **Skilled Migration Programs (Points-Based Systems):**\n",
      "    *   **How it works:** Countries like Canada, Australia, New Zealand, and some European nations have points-based immigration systems for skilled workers. You apply directly to the government without a job offer first.\n",
      "    *   **Best for:** Individuals with high qualifications, work experience, language proficiency (English/French), and within specific age brackets.\n",
      "    *   **Action:** Research the specific country's immigration website, assess your eligibility, gather documents, and submit an Expression of Interest (EOI).\n",
      "    *   **Key:** These often lead to permanent residency or a direct path to it.\n",
      "\n",
      "4.  **Working Holiday Visas (WHV):**\n",
      "    *   **How it works:** Agreements between countries allow young adults (usually 18-30, sometimes 35) to travel and work temporarily (typically 1-2 years).\n",
      "    *   **Best for:** Young people looking for an immersive cultural experience, travel, and short-term work to support themselves.\n",
      "    *   **Countries:** Australia, New Zealand, Canada, Japan, South Korea, some European countries, etc.\n",
      "    *   **Action:** Apply through the relevant government immigration website.\n",
      "    *   **Key:** Age restrictions and often limits on how long you can work for one employer.\n",
      "\n",
      "5.  **Study Abroad & Post-Study Work Permits:**\n",
      "    *   **How it works:** Enroll in a degree program in a foreign country. After graduation, many countries offer post-study work permits (e.g., Canada, UK, Australia, Germany, US).\n",
      "    *   **Best for:** Those willing to invest in further education, looking for a long-term pathway, or whose qualifications might not be easily recognized abroad.\n",
      "    *   **Action:** Research universities and programs, apply for a student visa, and then explore post-study work options.\n",
      "    *   **Key:** Can be expensive, but a local degree often boosts job prospects.\n",
      "\n",
      "6.  **Teaching English as a Foreign Language (TEFL/ESL):**\n",
      "    *   **How it works:** Obtain a TEFL/TESOL certification and apply for English teaching jobs in countries with high demand.\n",
      "    *   **Best for:** Native English speakers (or highly proficient non-natives) with a bachelor's degree.\n",
      "    *   **Countries:** South Korea, Japan, China, Vietnam, Thailand, UAE, Saudi Arabia, Spain, Mexico, etc.\n",
      "    *   **Action:** Get certified, research schools/academies, and apply directly or through specialized recruiters.\n",
      "    *   **Key:** Often provides visa sponsorship and can be a relatively accessible entry point.\n",
      "\n",
      "7.  **Freelancing / Digital Nomad Visas:**\n",
      "    *   **How it works:** If your work is location-independent, you can work remotely for clients anywhere in the world. Some countries now offer specific \"digital nomad visas\" (e.g., Portugal, Spain, Costa Rica, Estonia) that allow you to reside there while working for foreign companies/clients.\n",
      "    *   **Best for:** IT professionals, writers, designers, consultants, virtual assistants, entrepreneurs.\n",
      "    *   **Action:** Build a portable business/client base, research digital nomad visa requirements (income, health insurance), or travel on a tourist visa (being mindful of legal work restrictions).\n",
      "    *   **Key:** You're responsible for your own income, taxes, and legal residency.\n",
      "\n",
      "8.  **Investment / Entrepreneur Visas:**\n",
      "    *   **How it works:** Invest a significant amount of capital into a business or start your own company in the target country.\n",
      "    *   **Best for:** Wealthy individuals, experienced entrepreneurs, or those with innovative business ideas.\n",
      "    *   **Action:** Develop a solid business plan, secure funding, and apply for the specific entrepreneur/investor visa program.\n",
      "    *   **Key:** High financial commitment and often complex application processes.\n",
      "\n",
      "9.  **Seasonal / Agricultural Work:**\n",
      "    *   **How it works:** Some countries have specific visa programs for temporary, seasonal labor, often in agriculture or hospitality.\n",
      "    *   **Best for:** Those looking for short-term work experiences, often physically demanding, and requiring less formal qualifications.\n",
      "    *   **Countries:** Many European countries, Canada, Australia, New Zealand, US (H-2A/H-2B visas).\n",
      "    *   **Action:** Research specific programs and apply through designated agencies or directly to employers.\n",
      "    *   **Key:** Work is temporary and often tied to specific industries.\n",
      "\n",
      "10. **Family Sponsorship / Dependent Visas:**\n",
      "    *   **How it works:** If your spouse, partner, or a close family member is a citizen or holds a valid work/residency visa in a foreign country, they might be able to sponsor you for a dependent visa, which often includes work rights.\n",
      "    *   **Best for:** Individuals with direct family ties to a resident or citizen abroad.\n",
      "    *   **Action:** Your family member initiates the sponsorship process.\n",
      "    *   **Key:** Requires a legally recognized relationship.\n",
      "\n",
      "**General Considerations & Steps for All Paths:**\n",
      "\n",
      "*   **Research, Research, Research:** Every country and visa category has unique requirements.\n",
      "*   **Skills in Demand:** Focus on countries where your skills are needed.\n",
      "*   **Language Proficiency:** Often a crucial requirement (e.g., IELTS, TOEFL for English; DELF/DALF for French; Goethe-Zertifikat for German).\n",
      "*   **Credential Recognition:** Ensure your degrees/certifications are recognized in the target country.\n",
      "*   **Financial Stability:** You'll often need to prove you have sufficient funds to support yourself initially.\n",
      "*   **Networking:** Connect with people already working abroad or in your target country.\n",
      "*   **Professional Help:** Consider consulting an immigration lawyer or registered migration agent for complex cases.\n",
      "*   **Patience:** The process can be long and challenging.\n",
      "\n",
      "Choose the path that best aligns with your qualifications, financial situation, career goals, and personal preferences! Good luck!\n"
     ]
    }
   ],
   "source": [
    "import google.generativeai as genai\n",
    "\n",
    "key=genai.configure(api_key='')\n",
    "\n",
    "model=genai.GenerativeModel('gemini-2.5-flash')\n",
    "\n",
    "response=model.generate_content('Give me the possible ways to go for work abroad')\n",
    "\n",
    "print(response.text)"
   ]
  },
  {
   "cell_type": "code",
   "execution_count": null,
   "id": "e53d633d-b0d6-4bee-909f-46e6f14fef02",
   "metadata": {},
   "outputs": [],
   "source": []
  }
 ],
 "metadata": {
  "kernelspec": {
   "display_name": "Python 3 (ipykernel)",
   "language": "python",
   "name": "python3"
  },
  "language_info": {
   "codemirror_mode": {
    "name": "ipython",
    "version": 3
   },
   "file_extension": ".py",
   "mimetype": "text/x-python",
   "name": "python",
   "nbconvert_exporter": "python",
   "pygments_lexer": "ipython3",
   "version": "3.12.7"
  }
 },
 "nbformat": 4,
 "nbformat_minor": 5
}
