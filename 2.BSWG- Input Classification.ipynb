{
 "cells": [
  {
   "cell_type": "code",
   "execution_count": 6,
   "id": "e82a21a6-4376-4109-a128-1c9eedb2ae4b",
   "metadata": {},
   "outputs": [],
   "source": [
    "import google.generativeai as genai\n",
    "genai.configure(api_key='')\n",
    "\n",
    "def chat_with_model(chat,prompt,model='gemini-2.5-flash',temperature=0,max_tokens=200):\n",
    "    model_instance=genai.GenerativeModel(model)\n",
    "    chat_history=model_instance.start_chat(history=chat)\n",
    "    response=chat_history.send_message(prompt)\n",
    "    return response.text"
   ]
  },
  {
   "cell_type": "code",
   "execution_count": 7,
   "id": "9961a9d3-d716-48c0-987b-188d9f307625",
   "metadata": {},
   "outputs": [],
   "source": [
    "chat=[{'role':'user','parts':[\"\"\"You will be provided with customer service queries.\n",
    "\n",
    "Classify each query into a primary category and a secondary category.\n",
    "Provide your output in json format with the keys: Primary and Secondary.\n",
    "\n",
    "Primary categories: Billing, Technical Support, Account Management, or General Inquiry.\n",
    "\n",
    "Billing secondary categories:\n",
    "Unsubscribe or upgrade\n",
    "Add a payment method\n",
    "Explanation for charge\n",
    "Dispute a charge\n",
    "\n",
    "Technical Support secondary categories:\n",
    "General troubleshooting\n",
    "Device compatibility\n",
    "Software updates\n",
    "\n",
    "Account Management secondary categories:\n",
    "Password reset\n",
    "Update personal information\n",
    "Close account\n",
    "Account security\n",
    "\n",
    "General Inquiry secondary categories:\n",
    "Product information\n",
    "Pricing\n",
    "Feedback\n",
    "Speak to a human\"\"\"]\n",
    "      }]\n",
    "\n",
    "prompt=\"I want you to delete my profile and all of my user data\""
   ]
  },
  {
   "cell_type": "code",
   "execution_count": 9,
   "id": "436c1593-c6ba-4b15-ab18-4138638d329e",
   "metadata": {},
   "outputs": [
    {
     "name": "stdout",
     "output_type": "stream",
     "text": [
      "```json\n",
      "{\n",
      "  \"Primary\": \"Account Management\",\n",
      "  \"Secondary\": \"Close account\"\n",
      "}\n",
      "```\n"
     ]
    }
   ],
   "source": [
    "#Classifying the products into primary and secondary categories:\n",
    "final_response=chat_with_model(chat,prompt)\n",
    "print(final_response)"
   ]
  },
  {
   "cell_type": "code",
   "execution_count": null,
   "id": "1d7721ed-ea0b-49e8-905e-1777f569ffbb",
   "metadata": {},
   "outputs": [],
   "source": []
  }
 ],
 "metadata": {
  "kernelspec": {
   "display_name": "Python 3 (ipykernel)",
   "language": "python",
   "name": "python3"
  },
  "language_info": {
   "codemirror_mode": {
    "name": "ipython",
    "version": 3
   },
   "file_extension": ".py",
   "mimetype": "text/x-python",
   "name": "python",
   "nbconvert_exporter": "python",
   "pygments_lexer": "ipython3",
   "version": "3.12.7"
  }
 },
 "nbformat": 4,
 "nbformat_minor": 5
}
